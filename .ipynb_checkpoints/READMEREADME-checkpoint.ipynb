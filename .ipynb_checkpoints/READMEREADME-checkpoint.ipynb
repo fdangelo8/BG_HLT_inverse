{
 "cells": [
  {
   "cell_type": "markdown",
   "id": "1e4de35e",
   "metadata": {
    "lines_to_next_cell": 0
   },
   "source": [
    "# BG_HLT_inverse\n",
    "\n",
    "This is a modified version of the HLT Backus--gilbert code provided by M. Naviglio.\n",
    "\n",
    "## Table of Contents\n",
    "- [Installation](#installation)\n",
    "- [Usage](#usage)\n",
    "- [Output](#output)\n",
    "- [Contributors](#contributors)\n",
    "\n",
    "## Installation <a name=\"installation\"></a>"
   ]
  },
  {
   "cell_type": "code",
   "execution_count": null,
   "id": "296116e5",
   "metadata": {
    "lines_to_next_cell": 0
   },
   "outputs": [],
   "source": [
    "# Clone the repository\n",
    "git clone https://github.com/your-username/project-name.git\n",
    "\n",
    "# Navigate into the project directory\n",
    "cd BG_HLT_inverse"
   ]
  },
  {
   "cell_type": "markdown",
   "id": "e6e47b09",
   "metadata": {
    "lines_to_next_cell": 0
   },
   "source": [
    "The following dipendencies are required. You can find them in the `package` directory. In the following, the procedure to correctly install them.\n",
    "### gmp "
   ]
  },
  {
   "cell_type": "code",
   "execution_count": null,
   "id": "4447b573",
   "metadata": {
    "lines_to_next_cell": 0
   },
   "outputs": [],
   "source": [
    "wget https://ftp.gnu.org/gnu/gmp/gmp-6.3.0.tar.gz\n",
    "tar -xzvf gmp-6.3.0.tar.gz\n",
    "cd gmp-6.3.0\n",
    "./configure --prefix=${HOME}\n",
    "make\n",
    "make check\n",
    "make install"
   ]
  },
  {
   "cell_type": "markdown",
   "id": "ed716a55",
   "metadata": {
    "lines_to_next_cell": 0
   },
   "source": [
    "### mpfr"
   ]
  },
  {
   "cell_type": "code",
   "execution_count": null,
   "id": "29991b82",
   "metadata": {
    "lines_to_next_cell": 0
   },
   "outputs": [],
   "source": [
    "wget https://www.mpfr.org/mpfr-current/mpfr-4.2.1.tar.gz\n",
    "tar -xzvf mpfr-4.2.1.tar.gz\n",
    "cd mpfr-4.2.1\n",
    "./configure --prefix=${HOME}\n",
    "make\n",
    "make check\n",
    "make install"
   ]
  },
  {
   "cell_type": "markdown",
   "id": "05f898b1",
   "metadata": {
    "lines_to_next_cell": 0
   },
   "source": [
    "### gmpfrxx"
   ]
  },
  {
   "cell_type": "code",
   "execution_count": null,
   "id": "547ad8f3",
   "metadata": {
    "lines_to_next_cell": 0
   },
   "outputs": [],
   "source": [
    "wget https://math.berkeley.edu/~wilken/code/gmpfrxx/gmpfrxx.zip\n",
    "unzip file.zip\n",
    "cd gmpfrxx\n",
    "vi README #to see how to install and test gmpfrxx "
   ]
  },
  {
   "cell_type": "markdown",
   "id": "87959c9a",
   "metadata": {
    "lines_to_next_cell": 0
   },
   "source": [
    "With the version of `gmp` and `mpfr` I reported, comment lines 74-75 of `example.cpp` before doing `make`, otherwise you get the error:"
   ]
  },
  {
   "cell_type": "code",
   "execution_count": null,
   "id": "7c1c998c",
   "metadata": {
    "lines_to_next_cell": 0
   },
   "outputs": [],
   "source": [
    "example.cpp:74:25: error: ‘GMP_RND_MAX’ was not declared in this scope; did you mean ‘GMP_RNDD’?\n",
    "   74 |     mpfr_class::set_rnd(GMP_RND_MAX);\n",
    "      |                         ^~~~~~~~~~~"
   ]
  },
  {
   "cell_type": "markdown",
   "id": "ecabb388",
   "metadata": {
    "lines_to_next_cell": 0
   },
   "source": [
    "You can also try to install the version of `gmp` and `mpfr` reported in the `README` file and try if everything works without commenting the two lines.  \n",
    "Finally, remember to specify the paths of `mpfr` and `gmp` in the `Makefile` before doing `make`.\n",
    "## Usage <a name=\"usage\"></a>\n",
    "To compile the code, in the `BG_HLT_inverse` directory"
   ]
  },
  {
   "cell_type": "code",
   "execution_count": null,
   "id": "853fea61",
   "metadata": {
    "lines_to_next_cell": 0
   },
   "outputs": [],
   "source": [
    "cd build\n",
    "bash compiler.sh"
   ]
  },
  {
   "cell_type": "markdown",
   "id": "f6324847",
   "metadata": {
    "lines_to_next_cell": 0
   },
   "source": [
    "All the available flags have are properly commented in`compiler.sh` file.  \n",
    "\n",
    "Remember to specify the path of `include` directory in `compiler.sh`"
   ]
  },
  {
   "cell_type": "code",
   "execution_count": null,
   "id": "4987d9c8",
   "metadata": {
    "lines_to_next_cell": 0
   },
   "outputs": [],
   "source": [
    "INVERSE_PATH='${YOUR_PATH}/BG_HLT_inverse/include'"
   ]
  },
  {
   "cell_type": "markdown",
   "id": "159c0d94",
   "metadata": {
    "lines_to_next_cell": 0
   },
   "source": [
    "and specify the path of `gmpfrxx` directory and all the libraries previously installed\n",
    "```\n",
    "g++ -O$optimization -std=c++14 -o main ../src/main.cpp ../lib/params.c ../lib/smear.c ../lib/statistical.c -I${YOUR_PATH}$/gmpfrxx -L${YOUR_PATH}/gmpfrxx -I${INCLUDE_PATH_LIBRARIES} -L${LIB_PATH_LIBRARIES} -lgmpfrxx -lmpfr -lgmpxx -lgmp -lm -lgsl -lgslcblas $Method $Basis $Target $Cov\n",
    "\n",
    "```\n",
    "After the compilation, you are ready to use the code:"
   ]
  },
  {
   "cell_type": "code",
   "execution_count": null,
   "id": "9ca9152f",
   "metadata": {
    "lines_to_next_cell": 0
   },
   "outputs": [],
   "source": [
    "./main input_file"
   ]
  },
  {
   "cell_type": "markdown",
   "id": "32aebbee",
   "metadata": {},
   "source": [
    "You can also launch the code without the `input_file` path to see how it was compiled, for instance\n",
    "```\n",
    "> ./main\n",
    "Compiled with COS_SPHAL basis\n",
    "Compiled with PSEUDO_GAUSS target\n",
    "Usage: ./main <input_file>\n",
    "```\n",
    "## Output <a name=\"output\"></a>\n",
    "You can choose the path of the output files in the last section of the `input_file`\n",
    "```\n",
    "# output files\n",
    "\n",
    "smear_func_file         Delta_Smear.dat                     \n",
    "rho_vs_lambda_file      rho_vs_lambda.dat         \n",
    "output_file             final_res.dat                \n",
    "rs_vs_lambda_file       RS.dat                              \n",
    "\n",
    "```\n",
    "   -  `smear_func_file` contains information about target function reconstruction, this file has 4 columns \n",
    "      <div align=\"center\">\n",
    "\n",
    "      | $\\omega$ |$\\Delta(\\omega,\\bar{\\omega})$ | $\\delta(\\omega,\\bar{\\omega})$ |$\\delta(\\omega,\\bar{\\omega})-\\Delta(\\omega,\\bar{\\omega})$|\n",
    "      |-----------|-----------|-----------|-----------|\n",
    "\n",
    "      </div>\n",
    "\n",
    "      where $\\Delta(\\omega,\\bar{\\omega})$ is the __reconstructed function__ and $\\delta(\\omega,\\bar{\\omega})$ the __target function__.\n",
    "\n",
    "   -  `rho_vs_lambda_file` gives the final result as a function of $\\lambda$ and $\\delta A_0[g_t(\\lambda)]$, where \n",
    "      $$\n",
    "      \\delta A_\\alpha[g_t(\\lambda)]\\equiv\\frac{\\int_{E_0}^\\infty d\\omega [\\Delta(\\omega,\\bar{\\omega})-\\delta(\\omega,\\bar{\\omega})]^2 e^{\\alpha\\omega}}{\\int_{E_0}^\\infty d\\omega [\\delta(\\omega,\\bar{\\omega})]^2e^{\\alpha\\omega}} ,\n",
    "      $$\n",
    "      and it has 4 columns  \n",
    "      <div align=\"center\">\n",
    "\n",
    "      | $\\lambda$ |$\\delta A_0[g_t(\\lambda)]$ | $\\bar{\\rho}_\\lambda(\\bar{\\omega})$ |$d\\bar{\\rho}_\\lambda(\\bar{\\omega})$|\n",
    "      |-----------|-----------|-----------|-----------| \n",
    "\n",
    "      </div>\n",
    "\n",
    "      where $\\bar{\\rho}_\\lambda(\\bar{\\omega})$ and $d\\bar{\\rho}_\\lambda(\\bar{\\omega})$ are the mean value and the error of the smeared reconstructed quantity we are interested in, as a function of $\\lambda$.\n",
    "\n",
    "   - `final_res.dat` is a file with just 1 row and 3 column file of the type\n",
    "      <div align=\"center\">\n",
    "\n",
    "      | $\\sigma$ |$\\bar{\\rho}(\\bar{\\omega})$ | $d\\bar{\\rho}(\\bar{\\omega})$ |\n",
    "      |-----------|-----------|-----------|\n",
    "\n",
    "      </div>\n",
    "\n",
    "      where $\\sigma$ is the width of $\\delta(\\omega,\\bar{\\omega})$ while $\\bar{\\rho}(\\bar{\\omega})$ and $d\\bar{\\rho}(\\bar{\\omega})$ are the mean value and the error of the final estimation.\n",
    "   - `rs_vs_lambda_file` is a 4 columns file\n",
    "      <div align=\"center\">\n",
    "\n",
    "      | $\\lambda$ |$\\delta A_\\alpha[g_t(\\lambda)]$ | $B[g_t(\\lambda)]$ |$(B / \\delta A_\\alpha) [g_t(\\lambda)]$|\n",
    "      |-----------|-----------|-----------|-----------| \n",
    "\n",
    "      </div>\n",
    "\n",
    "      where\n",
    "      $$\n",
    "      B[g_t(\\lambda)]\\equiv \\sum_{t,t'=0}^{1/T}\\mathrm{Cov}_{tt'} g_t g_{t'}\n",
    "      $$\n",
    "      and it is important to fix the parameters `Lside` and `Rside` in the `input_file`.\n",
    "\n",
    "## Contributors <a name=\"contributors\"></a>\n",
    " - M. Naviglio\n",
    " - F. D'Angelo"
   ]
  }
 ],
 "metadata": {
  "jupytext": {
   "cell_metadata_filter": "-all",
   "main_language": "bash",
   "notebook_metadata_filter": "-all"
  }
 },
 "nbformat": 4,
 "nbformat_minor": 5
}
